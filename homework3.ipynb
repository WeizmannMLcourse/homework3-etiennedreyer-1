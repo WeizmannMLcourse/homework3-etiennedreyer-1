{
  "cells": [
    {
      "attachments": {},
      "cell_type": "markdown",
      "id": "oRFT769exkHj",
      "metadata": {
        "id": "oRFT769exkHj"
      },
      "source": [
        "## homework 3 - introduction to graph networks"
      ]
    },
    {
      "attachments": {},
      "cell_type": "markdown",
      "id": "U1eLg3AXxkHj",
      "metadata": {
        "id": "U1eLg3AXxkHj"
      },
      "source": [
        "goals of this assignment:\n",
        "1. basic introduction to the DGL library https://www.dgl.ai/\n",
        "2. train a classifier that takes a point cloud as input. to submit you must achieve validation accuracy over 85%\n",
        "3. learn to work with dgl graphs, node data and batching\n",
        "4. build a deepset architecture with dgl mean_nodes and broadcast_nodes functions\n",
        "\n",
        "\n",
        "\n",
        "\n",
        "first step, download the dataset. \n",
        "its a modified version of the MNIST dataset where the images have been converted to point clouds"
      ]
    },
    {
      "cell_type": "code",
      "execution_count": 1,
      "id": "Mu1yI9aWxkHk",
      "metadata": {
        "colab": {
          "base_uri": "https://localhost:8080/"
        },
        "id": "Mu1yI9aWxkHk",
        "outputId": "99baf474-0ca2-42ad-8ffa-321908c8fb92",
        "scrolled": true
      },
      "outputs": [
        {
          "name": "stdout",
          "output_type": "stream",
          "text": [
            "--2021-05-31 15:16:39--  https://www.dropbox.com/s/246zhani5mptt7a/Dataset.zip\n",
            "Resolving www.dropbox.com (www.dropbox.com)... 162.125.1.18, 2620:100:6016:18::a27d:112\n",
            "Connecting to www.dropbox.com (www.dropbox.com)|162.125.1.18|:443... connected.\n",
            "HTTP request sent, awaiting response... 301 Moved Permanently\n",
            "Location: /s/raw/246zhani5mptt7a/Dataset.zip [following]\n",
            "--2021-05-31 15:16:39--  https://www.dropbox.com/s/raw/246zhani5mptt7a/Dataset.zip\n",
            "Reusing existing connection to www.dropbox.com:443.\n",
            "HTTP request sent, awaiting response... 302 Found\n",
            "Location: https://ucfee07274bbb3c331c00631ef1c.dl-eu.dropboxusercontent.com/cd/0/inline/BPgVHu01HWJJb3mVbcqDd-nF3wRhHn4nUrllCS9VKGrSBtm_fkYki5ScNU8izmXRlNe2JC2VkIcRd1qRn5o6urkODFTvLyzlHUUsoKeRqCczKTTU0YlK-EXeUcvxZri2AmQQq6P3X6fc6zUF-KVCb0_7/file# [following]\n",
            "--2021-05-31 15:16:39--  https://ucfee07274bbb3c331c00631ef1c.dl-eu.dropboxusercontent.com/cd/0/inline/BPgVHu01HWJJb3mVbcqDd-nF3wRhHn4nUrllCS9VKGrSBtm_fkYki5ScNU8izmXRlNe2JC2VkIcRd1qRn5o6urkODFTvLyzlHUUsoKeRqCczKTTU0YlK-EXeUcvxZri2AmQQq6P3X6fc6zUF-KVCb0_7/file\n",
            "Resolving ucfee07274bbb3c331c00631ef1c.dl-eu.dropboxusercontent.com (ucfee07274bbb3c331c00631ef1c.dl-eu.dropboxusercontent.com)... 162.125.1.15, 2620:100:6016:15::a27d:10f\n",
            "Connecting to ucfee07274bbb3c331c00631ef1c.dl-eu.dropboxusercontent.com (ucfee07274bbb3c331c00631ef1c.dl-eu.dropboxusercontent.com)|162.125.1.15|:443... connected.\n",
            "HTTP request sent, awaiting response... 302 Found\n",
            "Location: /cd/0/inline2/BPjrgUWZmNI9wyaXpfOIZN0PIA7ttEvPZsRkFB4ftn52k8xqcdcD01RLkoeBJvysv55VCvpS54mZaoQHd90rbgX2T2EaJL5_snYkhZe5QgPh4t30Ad15CM7j8637cz-NbK10iQMojMMjFZe6jJM6nHmB7M9yAllSDPUTtwbAouydxV8kOkWQEEPMotYCUitXXdeP22a7YcUTixi_Fw-9Pn15ojavHAEYogAR1-7UnUbHTgqli_113Dk90HpIUPSqieIFQClDUYopbw-drHqXNVEDvQtvbGcL7f9hiU7Zx99bhtUxj4NbCC_Fhhq2X03mIs9ppLF9I2Y56waK9y-VL2XfGC6jmS7rZskSYopJ1iayQJ9oz36AkNcebAhI9rbiKWA/file [following]\n",
            "--2021-05-31 15:16:40--  https://ucfee07274bbb3c331c00631ef1c.dl-eu.dropboxusercontent.com/cd/0/inline2/BPjrgUWZmNI9wyaXpfOIZN0PIA7ttEvPZsRkFB4ftn52k8xqcdcD01RLkoeBJvysv55VCvpS54mZaoQHd90rbgX2T2EaJL5_snYkhZe5QgPh4t30Ad15CM7j8637cz-NbK10iQMojMMjFZe6jJM6nHmB7M9yAllSDPUTtwbAouydxV8kOkWQEEPMotYCUitXXdeP22a7YcUTixi_Fw-9Pn15ojavHAEYogAR1-7UnUbHTgqli_113Dk90HpIUPSqieIFQClDUYopbw-drHqXNVEDvQtvbGcL7f9hiU7Zx99bhtUxj4NbCC_Fhhq2X03mIs9ppLF9I2Y56waK9y-VL2XfGC6jmS7rZskSYopJ1iayQJ9oz36AkNcebAhI9rbiKWA/file\n",
            "Reusing existing connection to ucfee07274bbb3c331c00631ef1c.dl-eu.dropboxusercontent.com:443.\n",
            "HTTP request sent, awaiting response... 200 OK\n",
            "Length: 9879308 (9.4M) [application/zip]\n",
            "Saving to: ‘Dataset.zip’\n",
            "\n",
            "Dataset.zip         100%[===================>]   9.42M  6.30MB/s    in 1.5s    \n",
            "\n",
            "2021-05-31 15:16:43 (6.30 MB/s) - ‘Dataset.zip’ saved [9879308/9879308]\n",
            "\n"
          ]
        }
      ],
      "source": [
        "#!wget https://www.dropbox.com/s/3vuzm1mqwa08zvq/mnist_pointclouds.h5"
      ]
    },
    {
      "cell_type": "code",
      "execution_count": 4,
      "id": "l8bc0t9lxkHm",
      "metadata": {
        "colab": {
          "base_uri": "https://localhost:8080/"
        },
        "id": "l8bc0t9lxkHm",
        "outputId": "05e4c3b4-100c-44a0-81d7-d7bb69b49e58"
      },
      "outputs": [
        {
          "name": "stdout",
          "output_type": "stream",
          "text": [
            "Collecting dgl-cu100\n",
            "\u001b[?25l  Downloading https://files.pythonhosted.org/packages/a7/d2/6a92efd7d8479ccc50503280029a979d2e5e84bdde0341eca503b8fd9cfc/dgl_cu100-0.5.3-cp37-cp37m-manylinux1_x86_64.whl (24.6MB)\n",
            "\u001b[K     |████████████████████████████████| 24.6MB 118kB/s \n",
            "\u001b[?25hRequirement already satisfied: requests>=2.19.0 in /usr/local/lib/python3.7/dist-packages (from dgl-cu100) (2.23.0)\n",
            "Requirement already satisfied: networkx>=2.1 in /usr/local/lib/python3.7/dist-packages (from dgl-cu100) (2.5.1)\n",
            "Requirement already satisfied: numpy>=1.14.0 in /usr/local/lib/python3.7/dist-packages (from dgl-cu100) (1.19.5)\n",
            "Requirement already satisfied: scipy>=1.1.0 in /usr/local/lib/python3.7/dist-packages (from dgl-cu100) (1.4.1)\n",
            "Requirement already satisfied: idna<3,>=2.5 in /usr/local/lib/python3.7/dist-packages (from requests>=2.19.0->dgl-cu100) (2.10)\n",
            "Requirement already satisfied: chardet<4,>=3.0.2 in /usr/local/lib/python3.7/dist-packages (from requests>=2.19.0->dgl-cu100) (3.0.4)\n",
            "Requirement already satisfied: urllib3!=1.25.0,!=1.25.1,<1.26,>=1.21.1 in /usr/local/lib/python3.7/dist-packages (from requests>=2.19.0->dgl-cu100) (1.24.3)\n",
            "Requirement already satisfied: certifi>=2017.4.17 in /usr/local/lib/python3.7/dist-packages (from requests>=2.19.0->dgl-cu100) (2020.12.5)\n",
            "Requirement already satisfied: decorator<5,>=4.3 in /usr/local/lib/python3.7/dist-packages (from networkx>=2.1->dgl-cu100) (4.4.2)\n",
            "Installing collected packages: dgl-cu100\n",
            "Successfully installed dgl-cu100-0.5.3\n"
          ]
        }
      ],
      "source": [
        "##!pip install dgl\n",
        "!pip install dgl-cu100"
      ]
    },
    {
      "cell_type": "code",
      "execution_count": 1,
      "id": "NkVSHEmfxkHm",
      "metadata": {
        "id": "NkVSHEmfxkHm"
      },
      "outputs": [],
      "source": [
        "%load_ext autoreload\n",
        "%autoreload 2"
      ]
    },
    {
      "cell_type": "code",
      "execution_count": 2,
      "id": "lluNAsV_xkHn",
      "metadata": {
        "colab": {
          "base_uri": "https://localhost:8080/"
        },
        "id": "lluNAsV_xkHn",
        "outputId": "55882574-7c68-48eb-8e95-9b4ee8fcbceb"
      },
      "outputs": [],
      "source": [
        "import dgl\n",
        "import torch"
      ]
    },
    {
      "attachments": {},
      "cell_type": "markdown",
      "id": "BnOJHLabxkHo",
      "metadata": {
        "id": "BnOJHLabxkHo"
      },
      "source": [
        "#### dataset object is already built - no need to deal with it - but its a good idea to have a look at how the DGL graph is created."
      ]
    },
    {
      "cell_type": "code",
      "execution_count": 3,
      "id": "_qFckUwvxkHo",
      "metadata": {
        "id": "_qFckUwvxkHo"
      },
      "outputs": [],
      "source": [
        "from dataloader import PointCloudMNISTdataset, collate_graphs"
      ]
    },
    {
      "cell_type": "code",
      "execution_count": 4,
      "id": "_cZJDClKxkHo",
      "metadata": {
        "id": "_cZJDClKxkHo"
      },
      "outputs": [],
      "source": [
        "data = PointCloudMNISTdataset('mnist_pointclouds.h5')\n",
        "\n",
        "N_train = int(len(data)*0.9)\n",
        "\n",
        "training_dataset = torch.utils.data.Subset(data,range(N_train))\n",
        "validation_dataset = torch.utils.data.Subset(data,range(N_train,len(data)))"
      ]
    },
    {
      "attachments": {},
      "cell_type": "markdown",
      "id": "tmTl6vQjxkHp",
      "metadata": {
        "id": "tmTl6vQjxkHp"
      },
      "source": [
        "the dataset returns a graph, and a target class (0 to 9)"
      ]
    },
    {
      "cell_type": "code",
      "execution_count": 5,
      "id": "nDNKCfo0xkHp",
      "metadata": {
        "id": "nDNKCfo0xkHp"
      },
      "outputs": [],
      "source": [
        "g, y = training_dataset[31]"
      ]
    },
    {
      "cell_type": "code",
      "execution_count": 6,
      "id": "kg1umXx4xkHp",
      "metadata": {
        "colab": {
          "base_uri": "https://localhost:8080/"
        },
        "id": "kg1umXx4xkHp",
        "outputId": "4ebbee16-be9d-43c0-c4a1-f73b494cd57a"
      },
      "outputs": [
        {
          "data": {
            "text/plain": [
              "(Graph(num_nodes=175, num_edges=0,\n",
              "       ndata_schemes={'xy': Scheme(shape=(2,), dtype=torch.float32)}\n",
              "       edata_schemes={}),\n",
              " 8)"
            ]
          },
          "execution_count": 6,
          "metadata": {},
          "output_type": "execute_result"
        }
      ],
      "source": [
        "g,y"
      ]
    },
    {
      "attachments": {},
      "cell_type": "markdown",
      "id": "p6JmwoYDxkHq",
      "metadata": {
        "id": "p6JmwoYDxkHq"
      },
      "source": [
        "the graphs have no edges, they are just a collection of nodes - \n",
        "\n",
        "and the nodes have a feature which is named \"xy\"\n",
        "\n",
        "\"xy\" represnts the position of the node in 2d space"
      ]
    },
    {
      "cell_type": "code",
      "execution_count": 7,
      "id": "NWHfzNvaxkHq",
      "metadata": {
        "colab": {
          "base_uri": "https://localhost:8080/",
          "height": 368
        },
        "id": "NWHfzNvaxkHq",
        "outputId": "a6bd63ee-d352-4de6-ff93-f101d784f38a"
      },
      "outputs": [
        {
          "data": {
            "image/png": "[encoded data removed]",
            "text/plain": [
              "<Figure size 500x500 with 1 Axes>"
            ]
          },
          "metadata": {},
          "output_type": "display_data"
        }
      ],
      "source": [
        "import matplotlib.pyplot as plt\n",
        "\n",
        "fig,ax = plt.subplots(figsize=(5,5))\n",
        "\n",
        "xy = g.ndata['xy'].data.numpy()\n",
        "\n",
        "ax.scatter( xy[:,0],xy[:,1] )\n",
        "\n",
        "ax.set_ylabel('Y ',fontsize=40,rotation=0)\n",
        "ax.set_xlabel('X',fontsize=40)\n",
        "ax.set_xlim(-1,1)\n",
        "ax.set_ylim(-1,1)\n",
        "plt.show()"
      ]
    },
    {
      "attachments": {},
      "cell_type": "markdown",
      "id": "NTKMyMwExkHr",
      "metadata": {
        "id": "NTKMyMwExkHr"
      },
      "source": [
        "###  dataloader and the custom collate function\n",
        "\n",
        "since we need to batch our data in a \"special\" way, we have to tell the pytorch dataloader how to do it\n",
        "we do this with the collate_graphs function which we define in dataloader.py\n",
        "\n",
        "its already implemented, so you don't need to deal with it - but have a look at the code"
      ]
    },
    {
      "cell_type": "code",
      "execution_count": 8,
      "id": "nWDl3OiExkHr",
      "metadata": {
        "colab": {
          "base_uri": "https://localhost:8080/"
        },
        "id": "nWDl3OiExkHr",
        "outputId": "79c78d34-c0de-4fb4-e348-80d793a74c2b"
      },
      "outputs": [],
      "source": [
        "from torch.utils.data import Dataset, DataLoader\n",
        "\n",
        "data_loader = DataLoader(training_dataset, batch_size=100, shuffle=True,\n",
        "                         collate_fn=collate_graphs, num_workers=0)\n",
        "validation_data_loader = DataLoader(validation_dataset, batch_size=100, shuffle=False,\n",
        "                         collate_fn=collate_graphs, num_workers=0)"
      ]
    },
    {
      "cell_type": "code",
      "execution_count": 9,
      "id": "USqNgNjlxkHs",
      "metadata": {
        "colab": {
          "base_uri": "https://localhost:8080/"
        },
        "id": "USqNgNjlxkHs",
        "outputId": "0e4410e1-47a9-47a6-b4b7-8f3703abb465"
      },
      "outputs": [],
      "source": [
        "for batched_g,y in data_loader:\n",
        "    break"
      ]
    },
    {
      "attachments": {},
      "cell_type": "markdown",
      "id": "EcLvq2SkxkHs",
      "metadata": {
        "id": "EcLvq2SkxkHs"
      },
      "source": [
        "the batched graph includes all the nodes from all the graphs - and dgl keeps track of which nodes belong to each graph"
      ]
    },
    {
      "cell_type": "code",
      "execution_count": 10,
      "id": "m2o5-DB9xkHt",
      "metadata": {
        "colab": {
          "base_uri": "https://localhost:8080/"
        },
        "id": "m2o5-DB9xkHt",
        "outputId": "cb9460f4-d37c-45e2-b8aa-762ca9bc2828"
      },
      "outputs": [
        {
          "data": {
            "text/plain": [
              "(Graph(num_nodes=15461, num_edges=0,\n",
              "       ndata_schemes={'xy': Scheme(shape=(2,), dtype=torch.float32)}\n",
              "       edata_schemes={}),\n",
              " tensor([8, 1, 5, 5, 7, 1, 9, 9, 8, 4, 1, 7, 7, 5, 0, 7, 1, 7, 7, 4, 3, 7, 0, 2,\n",
              "         3, 2, 7, 6, 7, 1, 3, 9, 8, 0, 0, 8, 4, 6, 3, 9, 2, 6, 2, 3, 2, 7, 0, 5,\n",
              "         6, 0, 9, 1, 7, 0, 6, 0, 8, 5, 2, 7, 3, 9, 5, 0, 9, 8, 4, 5, 3, 0, 2, 4,\n",
              "         2, 1, 7, 7, 6, 6, 4, 4, 2, 8, 2, 8, 2, 7, 5, 5, 2, 6, 8, 8, 1, 8, 2, 2,\n",
              "         5, 9, 1, 3]))"
            ]
          },
          "execution_count": 10,
          "metadata": {},
          "output_type": "execute_result"
        }
      ],
      "source": [
        "batched_g,y"
      ]
    },
    {
      "cell_type": "code",
      "execution_count": 11,
      "id": "PTUwxyYCxkHt",
      "metadata": {
        "colab": {
          "base_uri": "https://localhost:8080/"
        },
        "id": "PTUwxyYCxkHt",
        "outputId": "2cca4b13-dc86-4847-af42-7fbc3030b46b"
      },
      "outputs": [
        {
          "data": {
            "text/plain": [
              "tensor([209,  60, 118, 182, 100,  67, 148, 152, 184, 118,  92, 144, 143, 177,\n",
              "        208, 155,  84, 116, 171, 174, 181, 104, 179, 143, 151,  99, 134, 214,\n",
              "        153, 115, 142, 146, 161, 170, 209, 145, 149, 216, 172, 127, 161, 174,\n",
              "        158, 239, 204,  96, 213, 195, 134, 174, 149, 114, 148, 195, 136, 181,\n",
              "        158, 140, 250,  99, 120, 147,  85, 144, 128, 197, 146, 119, 142, 196,\n",
              "        251, 100, 181,  84, 145, 126, 173, 143, 137, 118, 213, 165, 234, 178,\n",
              "        160, 203, 117, 104, 223, 184, 186, 158,  78, 196, 222, 140, 168, 141,\n",
              "         74, 205])"
            ]
          },
          "execution_count": 11,
          "metadata": {},
          "output_type": "execute_result"
        }
      ],
      "source": [
        "batched_g.batch_num_nodes()"
      ]
    },
    {
      "attachments": {},
      "cell_type": "markdown",
      "id": "wJY11uECxkHu",
      "metadata": {
        "id": "wJY11uECxkHu"
      },
      "source": [
        "## Building the model"
      ]
    },
    {
      "attachments": {},
      "cell_type": "markdown",
      "id": "JYhbQoCCxkH2",
      "metadata": {
        "id": "JYhbQoCCxkH2"
      },
      "source": [
        "- the final model should take a graph as input, and return a vector of length 10 (remember this is MNIST and our task is to classify digits)\n",
        "- below you can see 3 main NN components: **encoder**, **update block**, and **classifier**"
      ]
    },
    {
      "attachments": {},
      "cell_type": "markdown",
      "id": "88759953",
      "metadata": {},
      "source": [
        "![network.jpeg](./network.jpeg)"
      ]
    },
    {
      "cell_type": "code",
      "execution_count": 12,
      "id": "jiws_O5xxkH3",
      "metadata": {
        "id": "jiws_O5xxkH3"
      },
      "outputs": [],
      "source": [
        "from model import Net"
      ]
    },
    {
      "cell_type": "code",
      "execution_count": 13,
      "id": "x98FyWScxkH3",
      "metadata": {
        "id": "x98FyWScxkH3"
      },
      "outputs": [],
      "source": [
        "net = Net()"
      ]
    },
    {
      "cell_type": "code",
      "execution_count": 14,
      "id": "32aUznF2xkH4",
      "metadata": {
        "colab": {
          "base_uri": "https://localhost:8080/"
        },
        "id": "32aUznF2xkH4",
        "outputId": "153986d1-0100-400d-cd7c-c81c078252a9"
      },
      "outputs": [],
      "source": [
        "for batched_g,y in data_loader:\n",
        "    break"
      ]
    },
    {
      "attachments": {},
      "cell_type": "markdown",
      "id": "ej0Gdz2cxkH4",
      "metadata": {
        "id": "ej0Gdz2cxkH4"
      },
      "source": [
        "make sure you are getting the right output shape."
      ]
    },
    {
      "cell_type": "code",
      "execution_count": 15,
      "id": "ffOqsEXHxkH4",
      "metadata": {
        "colab": {
          "base_uri": "https://localhost:8080/"
        },
        "id": "ffOqsEXHxkH4",
        "outputId": "00d37463-ba07-4195-c5e0-aad43b1c422a"
      },
      "outputs": [
        {
          "name": "stderr",
          "output_type": "stream",
          "text": [
            "/Users/ets/miniconda3/lib/python3.10/site-packages/dgl/backend/pytorch/tensor.py:445: UserWarning: TypedStorage is deprecated. It will be removed in the future and UntypedStorage will be the only storage class. This should only matter to you if you are using storages directly.  To access UntypedStorage directly, use tensor.untyped_storage() instead of tensor.storage()\n",
            "  assert input.numel() == input.storage().size(), (\n"
          ]
        },
        {
          "data": {
            "text/plain": [
              "torch.Size([100, 10])"
            ]
          },
          "execution_count": 15,
          "metadata": {},
          "output_type": "execute_result"
        }
      ],
      "source": [
        "net(batched_g).shape"
      ]
    },
    {
      "attachments": {},
      "cell_type": "markdown",
      "id": "LkJWGl1gxkH5",
      "metadata": {
        "id": "LkJWGl1gxkH5"
      },
      "source": [
        "## you can submit the homework when the validation accuracy is above 80%"
      ]
    },
    {
      "cell_type": "code",
      "execution_count": null,
      "id": "6c0d1c33",
      "metadata": {},
      "outputs": [],
      "source": [
        "device = torch.device('cpu')\n",
        "if torch.cuda.is_available():\n",
        "    device = torch.device('cuda:0')\n",
        "\n",
        "net.to(device)"
      ]
    },
    {
      "cell_type": "code",
      "execution_count": 17,
      "id": "sG-mY0HYxkH5",
      "metadata": {
        "id": "sG-mY0HYxkH5"
      },
      "outputs": [],
      "source": [
        "import torch.nn as nn\n",
        "import torch.optim as optim\n",
        "\n",
        "\n",
        "loss_func = nn.CrossEntropyLoss()\n",
        "optimizer = optim.Adam(net.parameters(), lr=0.0005) "
      ]
    },
    {
      "cell_type": "code",
      "execution_count": 18,
      "id": "FjffMW9fxkH6",
      "metadata": {
        "id": "FjffMW9fxkH6"
      },
      "outputs": [],
      "source": [
        "def compute_accuracy_and_loss(dataloader,net):\n",
        "    total = 0\n",
        "    correct = 0\n",
        "    \n",
        "    loss = 0\n",
        "    \n",
        "    if torch.cuda.is_available():\n",
        "        net.cuda()\n",
        "    net.eval()\n",
        "    \n",
        "    n_batches = 0\n",
        "    with torch.no_grad():\n",
        "        for batched_g,y in dataloader:\n",
        "            n_batches+=1\n",
        "\n",
        "            if torch.cuda.is_available():\n",
        "                batched_g = batched_g.to(torch.device('cuda'))\n",
        "                y = y.cuda()\n",
        "            pred = net(batched_g)         \n",
        "\n",
        "            loss+= loss_func(pred,y).item()\n",
        "            \n",
        "            pred = torch.argmax(pred,dim=1)\n",
        "\n",
        "            correct+=len(torch.where(pred==y)[0])\n",
        "            total+=len(y)\n",
        "    loss = loss/n_batches      \n",
        "    return correct/total, loss"
      ]
    },
    {
      "cell_type": "code",
      "execution_count": 19,
      "id": "SMQNCDxfxkH8",
      "metadata": {
        "id": "SMQNCDxfxkH8"
      },
      "outputs": [],
      "source": [
        "if torch.cuda.is_available():\n",
        "    net.cuda()"
      ]
    },
    {
      "cell_type": "code",
      "execution_count": 20,
      "id": "R0tXAA_AxkH9",
      "metadata": {
        "colab": {
          "base_uri": "https://localhost:8080/",
          "height": 120,
          "referenced_widgets": [
            "643b205809ea4511a1b19ff77734ca53",
            "65bd931b34494b0e87926a5ec8759cf2",
            "a78364ec0f324f8cb719239bf3cef8f4",
            "34da4cb8a0e544af8430218e2f34c1ac",
            "c5bec3280f694949911f476330c5368e",
            "861abdab73404f3a8d96f95685c53cb8",
            "9fd7c02aef194a80a729bb9f5d59ab49",
            "b5ccac2fa15d4974980eca684232c09b"
          ]
        },
        "id": "R0tXAA_AxkH9",
        "outputId": "a684d2c1-97c7-49f5-9a4d-6fafeb1fba5d"
      },
      "outputs": [
        {
          "data": {
            "application/vnd.jupyter.widget-view+json": {
              "model_id": "295460e26f2340ba9e0df15016a6b2c0",
              "version_major": 2,
              "version_minor": 0
            },
            "text/plain": [
              "  0%|          | 0/5 [00:00<?, ?it/s]"
            ]
          },
          "metadata": {},
          "output_type": "display_data"
        }
      ],
      "source": [
        "from tqdm.notebook import tqdm\n",
        "\n",
        "n_epochs = 5\n",
        "bestacc  = -999\n",
        "\n",
        "training_loss_vs_epoch = []\n",
        "validation_loss_vs_epoch = []\n",
        "\n",
        "training_acc_vs_epoch = []\n",
        "validation_acc_vs_epoch = []\n",
        "\n",
        "pbar = tqdm( range(n_epochs) )\n",
        "\n",
        "for epoch in pbar:\n",
        "    \n",
        "    if len(validation_loss_vs_epoch) > 1:\n",
        "        pbar.set_description('val acc:'+'{0:.5f}'.format(validation_acc_vs_epoch[-1])+', train acc:'+'{0:.5f}'.format(training_acc_vs_epoch[-1]))\n",
        "       \n",
        "    net.train() # put the net into \"training mode\"\n",
        "    for batched_g,y in data_loader:\n",
        "        if torch.cuda.is_available():\n",
        "            batched_g = batched_g.to(torch.device('cuda'))\n",
        "            y = y.cuda()\n",
        "            \n",
        "        optimizer.zero_grad()\n",
        "        pred = net(batched_g)\n",
        "        loss = loss_func(pred,y)\n",
        "        loss.backward()\n",
        "        optimizer.step()\n",
        "    \n",
        "    net.eval() #put the net into evaluation mode\n",
        "    train_acc, train_loss = compute_accuracy_and_loss(data_loader,net)\n",
        "    valid_acc, valid_loss =  compute_accuracy_and_loss(validation_data_loader,net)\n",
        "         \n",
        "    training_loss_vs_epoch.append(train_loss)    \n",
        "    training_acc_vs_epoch.append( train_acc )\n",
        "    \n",
        "    validation_acc_vs_epoch.append(valid_acc)\n",
        "    validation_loss_vs_epoch.append(valid_loss)\n",
        "\n",
        "    #keep model with best accuracy\n",
        "    if len(validation_loss_vs_epoch)==1 or validation_acc_vs_epoch[-1] > bestacc:\n",
        "        torch.save(net.state_dict(), 'trained_model.pt')\n",
        "        bestacc = validation_acc_vs_epoch[-1]"
      ]
    },
    {
      "cell_type": "code",
      "execution_count": 21,
      "id": "ZgLK-vslC0Yq",
      "metadata": {
        "colab": {
          "base_uri": "https://localhost:8080/"
        },
        "id": "ZgLK-vslC0Yq",
        "outputId": "aa537f9b-ea9f-4d71-88ee-7f7be1230cd2"
      },
      "outputs": [
        {
          "name": "stdout",
          "output_type": "stream",
          "text": [
            "0.9718333333333333\n"
          ]
        }
      ],
      "source": [
        "print(bestacc)"
      ]
    },
    {
      "cell_type": "code",
      "execution_count": 22,
      "id": "Gy-XD5yFxkH_",
      "metadata": {
        "colab": {
          "base_uri": "https://localhost:8080/",
          "height": 213
        },
        "id": "Gy-XD5yFxkH_",
        "outputId": "1366db98-5931-47c6-d3de-f36ef1f9788b"
      },
      "outputs": [
        {
          "data": {
            "image/png": "[encoded data removed]",
            "text/plain": [
              "<Figure size 800x300 with 2 Axes>"
            ]
          },
          "metadata": {},
          "output_type": "display_data"
        }
      ],
      "source": [
        "fig,ax = plt.subplots(1,2,figsize=(8,3))\n",
        "\n",
        "ax[0].plot(training_loss_vs_epoch,label='training')\n",
        "ax[0].plot(validation_loss_vs_epoch,label='validation')\n",
        "ax[0].set_title('Loss')\n",
        "ax[0].legend()\n",
        "\n",
        "ax[1].plot(training_acc_vs_epoch,label='training')\n",
        "ax[1].plot(validation_acc_vs_epoch,label='validation')\n",
        "ax[1].set_title('Accuracy')\n",
        "ax[1].legend()\n",
        "\n",
        "plt.show()"
      ]
    },
    {
      "cell_type": "code",
      "execution_count": null,
      "id": "786df3a6",
      "metadata": {},
      "outputs": [],
      "source": []
    }
  ],
  "metadata": {
    "accelerator": "GPU",
    "colab": {
      "collapsed_sections": [
        "NTKMyMwExkHr",
        "wJY11uECxkHu",
        "JYhbQoCCxkH2"
      ],
      "name": "homework3.ipynb",
      "provenance": []
    },
    "kernelspec": {
      "display_name": "Python 3",
      "language": "python",
      "name": "python3"
    },
    "language_info": {
      "codemirror_mode": {
        "name": "ipython",
        "version": 3
      },
      "file_extension": ".py",
      "mimetype": "text/x-python",
      "name": "python",
      "nbconvert_exporter": "python",
      "pygments_lexer": "ipython3",
      "version": "3.10.10"
    },
    "widgets": {
      "application/vnd.jupyter.widget-state+json": {
        "34da4cb8a0e544af8430218e2f34c1ac": {
          "model_module": "@jupyter-widgets/controls",
          "model_name": "HTMLModel",
          "state": {
            "_dom_classes": [],
            "_model_module": "@jupyter-widgets/controls",
            "_model_module_version": "1.5.0",
            "_model_name": "HTMLModel",
            "_view_count": null,
            "_view_module": "@jupyter-widgets/controls",
            "_view_module_version": "1.5.0",
            "_view_name": "HTMLView",
            "description": "",
            "description_tooltip": null,
            "layout": "IPY_MODEL_b5ccac2fa15d4974980eca684232c09b",
            "placeholder": "​",
            "style": "IPY_MODEL_9fd7c02aef194a80a729bb9f5d59ab49",
            "value": " 30/30 [06:31&lt;00:00, 13.03s/it]"
          }
        },
        "643b205809ea4511a1b19ff77734ca53": {
          "model_module": "@jupyter-widgets/controls",
          "model_name": "HBoxModel",
          "state": {
            "_dom_classes": [],
            "_model_module": "@jupyter-widgets/controls",
            "_model_module_version": "1.5.0",
            "_model_name": "HBoxModel",
            "_view_count": null,
            "_view_module": "@jupyter-widgets/controls",
            "_view_module_version": "1.5.0",
            "_view_name": "HBoxView",
            "box_style": "",
            "children": [
              "IPY_MODEL_a78364ec0f324f8cb719239bf3cef8f4",
              "IPY_MODEL_34da4cb8a0e544af8430218e2f34c1ac"
            ],
            "layout": "IPY_MODEL_65bd931b34494b0e87926a5ec8759cf2"
          }
        },
        "65bd931b34494b0e87926a5ec8759cf2": {
          "model_module": "@jupyter-widgets/base",
          "model_name": "LayoutModel",
          "state": {
            "_model_module": "@jupyter-widgets/base",
            "_model_module_version": "1.2.0",
            "_model_name": "LayoutModel",
            "_view_count": null,
            "_view_module": "@jupyter-widgets/base",
            "_view_module_version": "1.2.0",
            "_view_name": "LayoutView",
            "align_content": null,
            "align_items": null,
            "align_self": null,
            "border": null,
            "bottom": null,
            "display": null,
            "flex": null,
            "flex_flow": null,
            "grid_area": null,
            "grid_auto_columns": null,
            "grid_auto_flow": null,
            "grid_auto_rows": null,
            "grid_column": null,
            "grid_gap": null,
            "grid_row": null,
            "grid_template_areas": null,
            "grid_template_columns": null,
            "grid_template_rows": null,
            "height": null,
            "justify_content": null,
            "justify_items": null,
            "left": null,
            "margin": null,
            "max_height": null,
            "max_width": null,
            "min_height": null,
            "min_width": null,
            "object_fit": null,
            "object_position": null,
            "order": null,
            "overflow": null,
            "overflow_x": null,
            "overflow_y": null,
            "padding": null,
            "right": null,
            "top": null,
            "visibility": null,
            "width": null
          }
        },
        "861abdab73404f3a8d96f95685c53cb8": {
          "model_module": "@jupyter-widgets/base",
          "model_name": "LayoutModel",
          "state": {
            "_model_module": "@jupyter-widgets/base",
            "_model_module_version": "1.2.0",
            "_model_name": "LayoutModel",
            "_view_count": null,
            "_view_module": "@jupyter-widgets/base",
            "_view_module_version": "1.2.0",
            "_view_name": "LayoutView",
            "align_content": null,
            "align_items": null,
            "align_self": null,
            "border": null,
            "bottom": null,
            "display": null,
            "flex": null,
            "flex_flow": null,
            "grid_area": null,
            "grid_auto_columns": null,
            "grid_auto_flow": null,
            "grid_auto_rows": null,
            "grid_column": null,
            "grid_gap": null,
            "grid_row": null,
            "grid_template_areas": null,
            "grid_template_columns": null,
            "grid_template_rows": null,
            "height": null,
            "justify_content": null,
            "justify_items": null,
            "left": null,
            "margin": null,
            "max_height": null,
            "max_width": null,
            "min_height": null,
            "min_width": null,
            "object_fit": null,
            "object_position": null,
            "order": null,
            "overflow": null,
            "overflow_x": null,
            "overflow_y": null,
            "padding": null,
            "right": null,
            "top": null,
            "visibility": null,
            "width": null
          }
        },
        "9fd7c02aef194a80a729bb9f5d59ab49": {
          "model_module": "@jupyter-widgets/controls",
          "model_name": "DescriptionStyleModel",
          "state": {
            "_model_module": "@jupyter-widgets/controls",
            "_model_module_version": "1.5.0",
            "_model_name": "DescriptionStyleModel",
            "_view_count": null,
            "_view_module": "@jupyter-widgets/base",
            "_view_module_version": "1.2.0",
            "_view_name": "StyleView",
            "description_width": ""
          }
        },
        "a78364ec0f324f8cb719239bf3cef8f4": {
          "model_module": "@jupyter-widgets/controls",
          "model_name": "FloatProgressModel",
          "state": {
            "_dom_classes": [],
            "_model_module": "@jupyter-widgets/controls",
            "_model_module_version": "1.5.0",
            "_model_name": "FloatProgressModel",
            "_view_count": null,
            "_view_module": "@jupyter-widgets/controls",
            "_view_module_version": "1.5.0",
            "_view_name": "ProgressView",
            "bar_style": "success",
            "description": "val acc:0.89790, train acc:0.90550: 100%",
            "description_tooltip": null,
            "layout": "IPY_MODEL_861abdab73404f3a8d96f95685c53cb8",
            "max": 30,
            "min": 0,
            "orientation": "horizontal",
            "style": "IPY_MODEL_c5bec3280f694949911f476330c5368e",
            "value": 30
          }
        },
        "b5ccac2fa15d4974980eca684232c09b": {
          "model_module": "@jupyter-widgets/base",
          "model_name": "LayoutModel",
          "state": {
            "_model_module": "@jupyter-widgets/base",
            "_model_module_version": "1.2.0",
            "_model_name": "LayoutModel",
            "_view_count": null,
            "_view_module": "@jupyter-widgets/base",
            "_view_module_version": "1.2.0",
            "_view_name": "LayoutView",
            "align_content": null,
            "align_items": null,
            "align_self": null,
            "border": null,
            "bottom": null,
            "display": null,
            "flex": null,
            "flex_flow": null,
            "grid_area": null,
            "grid_auto_columns": null,
            "grid_auto_flow": null,
            "grid_auto_rows": null,
            "grid_column": null,
            "grid_gap": null,
            "grid_row": null,
            "grid_template_areas": null,
            "grid_template_columns": null,
            "grid_template_rows": null,
            "height": null,
            "justify_content": null,
            "justify_items": null,
            "left": null,
            "margin": null,
            "max_height": null,
            "max_width": null,
            "min_height": null,
            "min_width": null,
            "object_fit": null,
            "object_position": null,
            "order": null,
            "overflow": null,
            "overflow_x": null,
            "overflow_y": null,
            "padding": null,
            "right": null,
            "top": null,
            "visibility": null,
            "width": null
          }
        },
        "c5bec3280f694949911f476330c5368e": {
          "model_module": "@jupyter-widgets/controls",
          "model_name": "ProgressStyleModel",
          "state": {
            "_model_module": "@jupyter-widgets/controls",
            "_model_module_version": "1.5.0",
            "_model_name": "ProgressStyleModel",
            "_view_count": null,
            "_view_module": "@jupyter-widgets/base",
            "_view_module_version": "1.2.0",
            "_view_name": "StyleView",
            "bar_color": null,
            "description_width": "initial"
          }
        }
      }
    }
  },
  "nbformat": 4,
  "nbformat_minor": 5
}
